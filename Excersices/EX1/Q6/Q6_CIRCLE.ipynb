{
  "nbformat": 4,
  "nbformat_minor": 0,
  "metadata": {
    "colab": {
      "name": "Q6_CIRCLE.ipynb",
      "provenance": [],
      "collapsed_sections": []
    },
    "kernelspec": {
      "name": "python3",
      "display_name": "Python 3"
    },
    "language_info": {
      "name": "python"
    }
  },
  "cells": [
    {
      "cell_type": "markdown",
      "metadata": {
        "id": "LhseN4JPK5bQ"
      },
      "source": [
        "# **Running part**"
      ]
    },
    {
      "cell_type": "code",
      "metadata": {
        "id": "_xFJPX82ImM3"
      },
      "source": [
        "import csv\n",
        "import numpy as np\n",
        "import math\n",
        "\n",
        "import matplotlib\n",
        "import matplotlib.pyplot as plt\n",
        "\n",
        "# Constants ======================================\n",
        "R = 20.5/1000\n",
        "L = 26/1000\n",
        "\n",
        "K_RO = 3\n",
        "K_ALPHA = 25\n",
        "K_BETA = -3.5\n",
        "\n",
        "coefficients = [[R/2, R/2], [R/(2*L), -R/(2*L)]]\n",
        "# Constants ======================================\n",
        "\n",
        "# DEFINITIONS =====================================================\n",
        "def calculate_new_cordinates(x_dot, y_dot, omega, current_x, current_y, current_theta, dt):\n",
        "    return current_x + x_dot*dt, current_y + y_dot*dt, current_theta + omega*dt\n",
        "\n",
        "def calculate_I_values(v, omega, theta):\n",
        "    return v * math.cos(theta), v * math.sin(theta), omega\n",
        "\n",
        "\n",
        "def calculate_v_omega(ro, alpha, beta):\n",
        "    return K_RO * ro, K_ALPHA * alpha + K_BETA * beta\n",
        "\n",
        "def between_pi_and_neg_pi(theta):\n",
        "    while(theta < -math.pi):\n",
        "        theta += 2 * math.pi\n",
        "    while(theta > math.pi):\n",
        "        theta -= 2 * math.pi\n",
        "    return theta\n",
        "\n",
        "def calculate_polar(delta_x, delta_y, theta):\n",
        "    ro = math.sqrt((delta_x * delta_x) + (delta_y * delta_y))\n",
        "\n",
        "    alpha = -theta + math.atan2(delta_y, delta_x)\n",
        "    alpha = between_pi_and_neg_pi(alpha)\n",
        "\n",
        "    beta = -theta - alpha\n",
        "    beta = between_pi_and_neg_pi(beta)\n",
        "\n",
        "    return ro, alpha, beta\n",
        "\n",
        "def differnce(current_x, current_y ,desiered_x, desiered_y):\n",
        "  return math.sqrt((desiered_x - current_x) * (desiered_x - current_x) + (desiered_y - current_y) * (desiered_y - current_y))\n",
        "\n",
        "def calc_deltas(current_x, current_y ,desiered_x, desiered_y):\n",
        "  return desiered_x - current_x, desiered_y - current_y\n",
        "\n",
        "def goal_func(x, r):\n",
        "  return math.sqrt(r * r - x * x )\n",
        "\n",
        "def differential_robot_controller(starting_x, starting_y, desiered_x, desiered_y, initial_theta, dt, threshold = 0.0001):\n",
        "    Ys = []\n",
        "    Xs = []\n",
        "    THETAs = []\n",
        "    \n",
        "    theta = initial_theta\n",
        "    current_x = starting_x\n",
        "    current_y = starting_y\n",
        "\n",
        "    while differnce(current_x, current_y ,desiered_x, desiered_y) > threshold:\n",
        "        del_x, del_y = calc_deltas(current_x, current_y ,desiered_x, desiered_y)\n",
        "\n",
        "        ro, alpha, beta = calculate_polar(del_x, del_y, theta)\n",
        "\n",
        "        v, omega = calculate_v_omega(ro, alpha, beta)\n",
        "\n",
        "        x_dot, y_dot, theta_dot = calculate_I_values(v, omega, theta)\n",
        "\n",
        "        current_x, current_y, theta = calculate_new_cordinates(x_dot, y_dot, theta_dot, current_x, current_y, theta, dt)\n",
        "\n",
        "        Ys.append(current_y)\n",
        "        Xs.append(current_x)\n",
        "        THETAs.append(theta)\n",
        "\n",
        "    Ys.append(current_y)\n",
        "    Xs.append(current_x)\n",
        "    THETAs.append(theta)\n",
        "\n",
        "    return Xs, Ys, THETAs\n",
        "# DEFINITIONS ====================================================="
      ],
      "execution_count": null,
      "outputs": []
    },
    {
      "cell_type": "code",
      "metadata": {
        "id": "cyIxi0-OGq2a"
      },
      "source": [
        "R_CIRCLE = 100\n",
        "ITR = 101\n",
        "\n",
        "xxx = []\n",
        "yyy = []\n",
        "\n",
        "prev_x = 0\n",
        "prev_y = 0\n",
        "for i in range(ITR):\n",
        "  des_x = i\n",
        "  des_y = goal_func(i, R_CIRCLE)\n",
        "  xx, yy,_ = differential_robot_controller(prev_x, prev_y, des_x, des_y, math.pi/2, 0.01)\n",
        "  prev_x = des_x\n",
        "  prev_y = des_y\n",
        "  xxx.extend(xx)\n",
        "  yyy.extend(yy)\n",
        "\n",
        "prev_x = 0\n",
        "prev_y = 0\n",
        "for i in range(ITR):\n",
        "  des_x = i\n",
        "  des_y = -goal_func(i, R_CIRCLE)\n",
        "  xx, yy,_ = differential_robot_controller(prev_x, prev_y, des_x, des_y, math.pi/2, 0.01)\n",
        "  prev_x = des_x\n",
        "  prev_y = des_y\n",
        "  xxx.extend(xx)\n",
        "  yyy.extend(yy)\n",
        "\n",
        "prev_x = 0\n",
        "prev_y = 0\n",
        "for i in range(ITR):\n",
        "  des_x = -i\n",
        "  des_y = goal_func(i, R_CIRCLE)\n",
        "  xx, yy,_ = differential_robot_controller(prev_x, prev_y, des_x, des_y, math.pi/2, 0.01)\n",
        "  prev_x = des_x\n",
        "  prev_y = des_y\n",
        "  xxx.extend(xx)\n",
        "  yyy.extend(yy)\n",
        "\n",
        "prev_x = 0\n",
        "prev_y = 0\n",
        "for i in range(ITR):\n",
        "  des_x = -i\n",
        "  des_y = -goal_func(i, R_CIRCLE)\n",
        "  xx, yy,_ = differential_robot_controller(prev_x, prev_y, des_x, des_y, math.pi/2, 0.01)\n",
        "  prev_x = des_x\n",
        "  prev_y = des_y\n",
        "  xxx.extend(xx)\n",
        "  yyy.extend(yy)"
      ],
      "execution_count": null,
      "outputs": []
    },
    {
      "cell_type": "code",
      "metadata": {
        "colab": {
          "base_uri": "https://localhost:8080/",
          "height": 444
        },
        "id": "5taNdUGBr970",
        "outputId": "3ef7e1ac-cf98-426c-a2fe-e91fab5b435f"
      },
      "source": [
        "fig = plt.figure(figsize=(6, 6), dpi=80)\n",
        "# figure(figsize=(6, 6), dpi=80)\n",
        "\n",
        "plt.plot(xxx, yyy, color='blue')\n",
        "plt.xlabel('X')\n",
        "plt.ylabel('Y')"
      ],
      "execution_count": null,
      "outputs": [
        {
          "output_type": "execute_result",
          "data": {
            "text/plain": [
              "Text(0, 0.5, 'Y')"
            ]
          },
          "metadata": {},
          "execution_count": 60
        },
        {
          "output_type": "display_data",
          "data": {
            "image/png": "[encoded data removed]",
            "text/plain": [
              "<Figure size 480x480 with 1 Axes>"
            ]
          },
          "metadata": {
            "needs_background": "light"
          }
        }
      ]
    }
  ]
}